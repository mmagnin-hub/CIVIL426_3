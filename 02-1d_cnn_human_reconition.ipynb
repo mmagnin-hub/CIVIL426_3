{
  "cells": [
    {
      "cell_type": "markdown",
      "metadata": {},
      "source": [
        "# Exercise 3: 1DCNN for human activity classification"
      ]
    },
    {
      "cell_type": "markdown",
      "metadata": {},
      "source": [
        "Download the dataset from the [Google Drive link](https://drive.google.com/file/d/1BDLcjJBjMxmY23cLBOTo-pEBubwy1qq7/view?usp=share_link)"
      ]
    },
    {
      "cell_type": "markdown",
      "metadata": {
        "id": "E3IFjmzBjSo7"
      },
      "source": [
        "# Description\n",
        "\n",
        "Human Activity Recognition dataset is built from the recordings of 30 subjects performing activities of daily living (ADL) while carrying a waist-mounted smartphone with embedded inertial sensors. In this notebook we train the 1-dimensional convolutional neural network to predict the type of human acivity: Walking, Walking Upstairs, Walking Downstairs, Sitting, Standing, Laying. To implement the model, we use PyTorch library."
      ]
    },
    {
      "cell_type": "markdown",
      "metadata": {
        "id": "--1woKxkj83e"
      },
      "source": [
        "# Imports"
      ]
    },
    {
      "cell_type": "code",
      "execution_count": 1,
      "metadata": {
        "id": "RZuv_XvR55W2"
      },
      "outputs": [],
      "source": [
        "import time\n",
        "import os\n",
        "import numpy as np\n",
        "import pandas as pd\n",
        "import matplotlib.pyplot as plt\n",
        "import torch\n",
        "import torch.nn as nn\n",
        "from torch.utils.data import Dataset, DataLoader\n",
        "from tqdm import tqdm"
      ]
    },
    {
      "cell_type": "markdown",
      "metadata": {
        "id": "H-ZXuN2hnIXJ"
      },
      "source": [
        "# Utilities"
      ]
    },
    {
      "cell_type": "code",
      "execution_count": 2,
      "metadata": {
        "id": "T3Yf_iXInGTn"
      },
      "outputs": [],
      "source": [
        "def to_categorical(y, num_classes=None, dtype='float32'):\n",
        "  \"\"\"Converts a class vector (integers) to binary class matrix.\n",
        "  E.g. for use with categorical_crossentropy.\n",
        "  # Arguments\n",
        "      y: class vector to be converted into a matrix\n",
        "          (integers from 0 to num_classes).\n",
        "      num_classes: total number of classes.\n",
        "      dtype: The data type expected by the input, as a string\n",
        "          (`float32`, `float64`, `int32`...)\n",
        "  # Returns\n",
        "      A binary matrix representation of the input. The classes axis\n",
        "      is placed last.\n",
        "  # Example\n",
        "  ```python\n",
        "  # Consider an array of 5 labels out of a set of 3 classes {0, 1, 2}:\n",
        "  > labels\n",
        "  array([0, 2, 1, 2, 0])\n",
        "  # `to_categorical` converts this into a matrix with as many\n",
        "  # columns as there are classes. The number of rows\n",
        "  # stays the same.\n",
        "  > to_categorical(labels)\n",
        "  array([[ 1.,  0.,  0.],\n",
        "          [ 0.,  0.,  1.],\n",
        "          [ 0.,  1.,  0.],\n",
        "          [ 0.,  0.,  1.],\n",
        "          [ 1.,  0.,  0.]], dtype=float32)\n",
        "  ```\n",
        "  \"\"\"\n",
        "\n",
        "  y = np.array(y, dtype='int')\n",
        "  input_shape = y.shape\n",
        "  if input_shape and input_shape[-1] == 1 and len(input_shape) > 1:\n",
        "    input_shape = tuple(input_shape[:-1])\n",
        "  y = y.ravel()\n",
        "  if not num_classes:\n",
        "    num_classes = np.max(y) + 1\n",
        "  n = y.shape[0]\n",
        "  categorical = np.zeros((n, num_classes), dtype=dtype)\n",
        "  categorical[np.arange(n), y] = 1\n",
        "  output_shape = input_shape + (num_classes,)\n",
        "  categorical = np.reshape(categorical, output_shape)\n",
        "  return categorical"
      ]
    },
    {
      "cell_type": "markdown",
      "metadata": {
        "id": "iBvETac-kqpq"
      },
      "source": [
        "# Data Loading Routine"
      ]
    },
    {
      "cell_type": "code",
      "execution_count": 3,
      "metadata": {
        "id": "3US-7wr655Zm"
      },
      "outputs": [],
      "source": [
        "def load_file(filepath):\n",
        "  '''Load a single .csv file.'''\n",
        "  dataframe = pd.read_csv(filepath, header=None, delim_whitespace=True)\n",
        "  return dataframe.values"
      ]
    },
    {
      "cell_type": "code",
      "execution_count": 4,
      "metadata": {
        "id": "QC7t-Qa055cf"
      },
      "outputs": [],
      "source": [
        "# load a list of files into a 3D array of [samples, timesteps, features]\n",
        "def load_group(filenames, prefix=''):\n",
        "  '''Load a list of files into a 3D array of [samples, features, timesteps].'''\n",
        "  loaded = list()\n",
        "  for name in filenames:\n",
        "    data = load_file(prefix + name)\n",
        "    loaded.append(data)\n",
        "  # stack group so that features are the 3rd dimension\n",
        "  loaded = np.dstack(loaded)\n",
        "  # transpose dimensions for convenient CNN input\n",
        "  # so that the last dimension corresponds to input channels (like for the image)\n",
        "  loaded = np.transpose(loaded, (0, 2, 1))\n",
        "  return loaded"
      ]
    },
    {
      "cell_type": "code",
      "execution_count": 5,
      "metadata": {
        "id": "-z1qNDqg55e8"
      },
      "outputs": [],
      "source": [
        "def load_dataset_group(group, prefix=''):\n",
        "  '''Loads the data for the whole group, i.e. train or test.'''\n",
        "  filepath = prefix + group + '/Inertial Signals/'\n",
        "  # load all 9 files as a single array\n",
        "  filenames = list()\n",
        "  # total acceleration\n",
        "  filenames += ['total_acc_x_' + group + '.txt', 'total_acc_y_' + group + '.txt', 'total_acc_z_' + group + '.txt']\n",
        "  # body acceleration\n",
        "  filenames += ['body_acc_x_' + group + '.txt', 'body_acc_y_' + group + '.txt', 'body_acc_z_' + group + '.txt']\n",
        "  # body gyroscope\n",
        "  filenames += ['body_gyro_x_' + group + '.txt', 'body_gyro_y_' + group + '.txt', 'body_gyro_z_' + group + '.txt']\n",
        "  # load input data\n",
        "  X = load_group(filenames, filepath)\n",
        "  # load class output\n",
        "  y = load_file(prefix + group + '/y_' + group + '.txt')\n",
        "  return X, y"
      ]
    },
    {
      "cell_type": "code",
      "execution_count": 6,
      "metadata": {
        "id": "rsp4--MS6bwR"
      },
      "outputs": [],
      "source": [
        "def load_dataset(prefix='', val_frac=0.4):\n",
        "    # load all train\n",
        "    trainX, trainy = load_dataset_group('train', prefix + 'HARDataset/')\n",
        "    # load all test\n",
        "    testX, testy = load_dataset_group('test', prefix + 'HARDataset/')\n",
        "\n",
        "    # zero-offset class values\n",
        "    trainy = trainy - 1\n",
        "    testy = testy - 1\n",
        "    # one hot encode y\n",
        "    trainy = to_categorical(trainy)\n",
        "    testy = to_categorical(testy)\n",
        "\n",
        "    val_idx = np.random.choice([True, False], size=len(testy), p=[val_frac, 1-val_frac])\n",
        "    valX, valy = testX[val_idx, :], testy[val_idx, :]\n",
        "    testX, testy = testX[~val_idx, :], testy[~val_idx, :]\n",
        "\n",
        "    print(trainX.shape, trainy.shape)\n",
        "    print(valX.shape, valy.shape)\n",
        "    print(testX.shape, testy.shape)\n",
        "\n",
        "    return trainX, trainy, valX, valy, testX, testy"
      ]
    },
    {
      "cell_type": "code",
      "execution_count": 11,
      "metadata": {
        "colab": {
          "base_uri": "https://localhost:8080/"
        },
        "id": "LVKhpSVu6gnR",
        "outputId": "9999f536-e01d-46d2-d052-bca3f4eb786d"
      },
      "outputs": [
        {
          "name": "stderr",
          "output_type": "stream",
          "text": [
            "/var/folders/6w/sv2ydg0d1c9c44jfs3pkt36w0000gn/T/ipykernel_80717/58810182.py:3: FutureWarning: The 'delim_whitespace' keyword in pd.read_csv is deprecated and will be removed in a future version. Use ``sep='\\s+'`` instead\n",
            "  dataframe = pd.read_csv(filepath, header=None, delim_whitespace=True)\n",
            "/var/folders/6w/sv2ydg0d1c9c44jfs3pkt36w0000gn/T/ipykernel_80717/58810182.py:3: FutureWarning: The 'delim_whitespace' keyword in pd.read_csv is deprecated and will be removed in a future version. Use ``sep='\\s+'`` instead\n",
            "  dataframe = pd.read_csv(filepath, header=None, delim_whitespace=True)\n",
            "/var/folders/6w/sv2ydg0d1c9c44jfs3pkt36w0000gn/T/ipykernel_80717/58810182.py:3: FutureWarning: The 'delim_whitespace' keyword in pd.read_csv is deprecated and will be removed in a future version. Use ``sep='\\s+'`` instead\n",
            "  dataframe = pd.read_csv(filepath, header=None, delim_whitespace=True)\n",
            "/var/folders/6w/sv2ydg0d1c9c44jfs3pkt36w0000gn/T/ipykernel_80717/58810182.py:3: FutureWarning: The 'delim_whitespace' keyword in pd.read_csv is deprecated and will be removed in a future version. Use ``sep='\\s+'`` instead\n",
            "  dataframe = pd.read_csv(filepath, header=None, delim_whitespace=True)\n",
            "/var/folders/6w/sv2ydg0d1c9c44jfs3pkt36w0000gn/T/ipykernel_80717/58810182.py:3: FutureWarning: The 'delim_whitespace' keyword in pd.read_csv is deprecated and will be removed in a future version. Use ``sep='\\s+'`` instead\n",
            "  dataframe = pd.read_csv(filepath, header=None, delim_whitespace=True)\n",
            "/var/folders/6w/sv2ydg0d1c9c44jfs3pkt36w0000gn/T/ipykernel_80717/58810182.py:3: FutureWarning: The 'delim_whitespace' keyword in pd.read_csv is deprecated and will be removed in a future version. Use ``sep='\\s+'`` instead\n",
            "  dataframe = pd.read_csv(filepath, header=None, delim_whitespace=True)\n",
            "/var/folders/6w/sv2ydg0d1c9c44jfs3pkt36w0000gn/T/ipykernel_80717/58810182.py:3: FutureWarning: The 'delim_whitespace' keyword in pd.read_csv is deprecated and will be removed in a future version. Use ``sep='\\s+'`` instead\n",
            "  dataframe = pd.read_csv(filepath, header=None, delim_whitespace=True)\n",
            "/var/folders/6w/sv2ydg0d1c9c44jfs3pkt36w0000gn/T/ipykernel_80717/58810182.py:3: FutureWarning: The 'delim_whitespace' keyword in pd.read_csv is deprecated and will be removed in a future version. Use ``sep='\\s+'`` instead\n",
            "  dataframe = pd.read_csv(filepath, header=None, delim_whitespace=True)\n",
            "/var/folders/6w/sv2ydg0d1c9c44jfs3pkt36w0000gn/T/ipykernel_80717/58810182.py:3: FutureWarning: The 'delim_whitespace' keyword in pd.read_csv is deprecated and will be removed in a future version. Use ``sep='\\s+'`` instead\n",
            "  dataframe = pd.read_csv(filepath, header=None, delim_whitespace=True)\n",
            "/var/folders/6w/sv2ydg0d1c9c44jfs3pkt36w0000gn/T/ipykernel_80717/58810182.py:3: FutureWarning: The 'delim_whitespace' keyword in pd.read_csv is deprecated and will be removed in a future version. Use ``sep='\\s+'`` instead\n",
            "  dataframe = pd.read_csv(filepath, header=None, delim_whitespace=True)\n",
            "/var/folders/6w/sv2ydg0d1c9c44jfs3pkt36w0000gn/T/ipykernel_80717/58810182.py:3: FutureWarning: The 'delim_whitespace' keyword in pd.read_csv is deprecated and will be removed in a future version. Use ``sep='\\s+'`` instead\n",
            "  dataframe = pd.read_csv(filepath, header=None, delim_whitespace=True)\n",
            "/var/folders/6w/sv2ydg0d1c9c44jfs3pkt36w0000gn/T/ipykernel_80717/58810182.py:3: FutureWarning: The 'delim_whitespace' keyword in pd.read_csv is deprecated and will be removed in a future version. Use ``sep='\\s+'`` instead\n",
            "  dataframe = pd.read_csv(filepath, header=None, delim_whitespace=True)\n",
            "/var/folders/6w/sv2ydg0d1c9c44jfs3pkt36w0000gn/T/ipykernel_80717/58810182.py:3: FutureWarning: The 'delim_whitespace' keyword in pd.read_csv is deprecated and will be removed in a future version. Use ``sep='\\s+'`` instead\n",
            "  dataframe = pd.read_csv(filepath, header=None, delim_whitespace=True)\n",
            "/var/folders/6w/sv2ydg0d1c9c44jfs3pkt36w0000gn/T/ipykernel_80717/58810182.py:3: FutureWarning: The 'delim_whitespace' keyword in pd.read_csv is deprecated and will be removed in a future version. Use ``sep='\\s+'`` instead\n",
            "  dataframe = pd.read_csv(filepath, header=None, delim_whitespace=True)\n",
            "/var/folders/6w/sv2ydg0d1c9c44jfs3pkt36w0000gn/T/ipykernel_80717/58810182.py:3: FutureWarning: The 'delim_whitespace' keyword in pd.read_csv is deprecated and will be removed in a future version. Use ``sep='\\s+'`` instead\n",
            "  dataframe = pd.read_csv(filepath, header=None, delim_whitespace=True)\n",
            "/var/folders/6w/sv2ydg0d1c9c44jfs3pkt36w0000gn/T/ipykernel_80717/58810182.py:3: FutureWarning: The 'delim_whitespace' keyword in pd.read_csv is deprecated and will be removed in a future version. Use ``sep='\\s+'`` instead\n",
            "  dataframe = pd.read_csv(filepath, header=None, delim_whitespace=True)\n",
            "/var/folders/6w/sv2ydg0d1c9c44jfs3pkt36w0000gn/T/ipykernel_80717/58810182.py:3: FutureWarning: The 'delim_whitespace' keyword in pd.read_csv is deprecated and will be removed in a future version. Use ``sep='\\s+'`` instead\n",
            "  dataframe = pd.read_csv(filepath, header=None, delim_whitespace=True)\n",
            "/var/folders/6w/sv2ydg0d1c9c44jfs3pkt36w0000gn/T/ipykernel_80717/58810182.py:3: FutureWarning: The 'delim_whitespace' keyword in pd.read_csv is deprecated and will be removed in a future version. Use ``sep='\\s+'`` instead\n",
            "  dataframe = pd.read_csv(filepath, header=None, delim_whitespace=True)\n"
          ]
        },
        {
          "name": "stdout",
          "output_type": "stream",
          "text": [
            "(7352, 9, 128) (7352, 6)\n",
            "(1134, 9, 128) (1134, 6)\n",
            "(1813, 9, 128) (1813, 6)\n"
          ]
        },
        {
          "name": "stderr",
          "output_type": "stream",
          "text": [
            "/var/folders/6w/sv2ydg0d1c9c44jfs3pkt36w0000gn/T/ipykernel_80717/58810182.py:3: FutureWarning: The 'delim_whitespace' keyword in pd.read_csv is deprecated and will be removed in a future version. Use ``sep='\\s+'`` instead\n",
            "  dataframe = pd.read_csv(filepath, header=None, delim_whitespace=True)\n",
            "/var/folders/6w/sv2ydg0d1c9c44jfs3pkt36w0000gn/T/ipykernel_80717/58810182.py:3: FutureWarning: The 'delim_whitespace' keyword in pd.read_csv is deprecated and will be removed in a future version. Use ``sep='\\s+'`` instead\n",
            "  dataframe = pd.read_csv(filepath, header=None, delim_whitespace=True)\n"
          ]
        }
      ],
      "source": [
        "trainX, trainy, valX, valy, testX, testy = load_dataset('')"
      ]
    },
    {
      "cell_type": "markdown",
      "metadata": {
        "id": "_pndbr7Jvi8F"
      },
      "source": [
        "# PyTorch DataSets and DataLoaders\n",
        "\n",
        "Convenient way to pass the data to PyTorch model is torch.utils.data.DataLoader. DataLoader can iterate over the torch.utils.data.Dataset."
      ]
    },
    {
      "cell_type": "code",
      "execution_count": 13,
      "metadata": {
        "id": "-JVailqP9T-I"
      },
      "outputs": [],
      "source": [
        "class HumanActivityDataset(Dataset):\n",
        "  def __init__(self, X, y, device):\n",
        "    self.X = torch.tensor(X).to(device)\n",
        "    self.y = torch.tensor(y).to(device)\n",
        "\n",
        "  def __len__(self):\n",
        "    return self.X.shape[0]\n",
        "\n",
        "  def __getitem__(self, idx):\n",
        "    return self.X[idx], self.y[idx]"
      ]
    },
    {
      "cell_type": "code",
      "execution_count": 14,
      "metadata": {
        "id": "P4rTViFY_TI3"
      },
      "outputs": [],
      "source": [
        "def create_datasets(path, device='cpu'):\n",
        "  trainX, trainy, valX, valy, testX, testy = load_dataset(path)\n",
        "  train_dataset = HumanActivityDataset(trainX, trainy, device)\n",
        "  val_dataset = HumanActivityDataset(valX, valy, device)\n",
        "  test_dataset = HumanActivityDataset(testX, testy, device)\n",
        "\n",
        "  return train_dataset, val_dataset, test_dataset"
      ]
    },
    {
      "cell_type": "code",
      "execution_count": 15,
      "metadata": {
        "id": "Z0xNTVHgA7ux"
      },
      "outputs": [],
      "source": [
        "def create_dataloaders(datasets, batch_size=64):\n",
        "  train_dataset, val_dataset, test_dataset = datasets\n",
        "\n",
        "  train_dataloader = DataLoader(train_dataset, batch_size=batch_size, shuffle=True)\n",
        "  val_dataloader = DataLoader(val_dataset, batch_size=batch_size, shuffle=False)\n",
        "  test_dataloader = DataLoader(test_dataset, batch_size=batch_size, shuffle=False)\n",
        "\n",
        "  d_info = f\"train_size: {len(train_dataloader)}\\n\"\n",
        "  d_info += f\"validation_size: {len(val_dataloader)}\\n\"\n",
        "  d_info += f\"test_size: {len(test_dataloader)}\"\n",
        "  print(d_info)\n",
        "\n",
        "  return train_dataloader, val_dataloader, test_dataloader"
      ]
    },
    {
      "cell_type": "code",
      "execution_count": 16,
      "metadata": {
        "colab": {
          "base_uri": "https://localhost:8080/"
        },
        "id": "x3ozqMrf_nCh",
        "outputId": "abc50b11-6ac2-4b21-9b4c-fec29bf9c759"
      },
      "outputs": [
        {
          "name": "stderr",
          "output_type": "stream",
          "text": [
            "/var/folders/6w/sv2ydg0d1c9c44jfs3pkt36w0000gn/T/ipykernel_80717/58810182.py:3: FutureWarning: The 'delim_whitespace' keyword in pd.read_csv is deprecated and will be removed in a future version. Use ``sep='\\s+'`` instead\n",
            "  dataframe = pd.read_csv(filepath, header=None, delim_whitespace=True)\n",
            "/var/folders/6w/sv2ydg0d1c9c44jfs3pkt36w0000gn/T/ipykernel_80717/58810182.py:3: FutureWarning: The 'delim_whitespace' keyword in pd.read_csv is deprecated and will be removed in a future version. Use ``sep='\\s+'`` instead\n",
            "  dataframe = pd.read_csv(filepath, header=None, delim_whitespace=True)\n",
            "/var/folders/6w/sv2ydg0d1c9c44jfs3pkt36w0000gn/T/ipykernel_80717/58810182.py:3: FutureWarning: The 'delim_whitespace' keyword in pd.read_csv is deprecated and will be removed in a future version. Use ``sep='\\s+'`` instead\n",
            "  dataframe = pd.read_csv(filepath, header=None, delim_whitespace=True)\n",
            "/var/folders/6w/sv2ydg0d1c9c44jfs3pkt36w0000gn/T/ipykernel_80717/58810182.py:3: FutureWarning: The 'delim_whitespace' keyword in pd.read_csv is deprecated and will be removed in a future version. Use ``sep='\\s+'`` instead\n",
            "  dataframe = pd.read_csv(filepath, header=None, delim_whitespace=True)\n",
            "/var/folders/6w/sv2ydg0d1c9c44jfs3pkt36w0000gn/T/ipykernel_80717/58810182.py:3: FutureWarning: The 'delim_whitespace' keyword in pd.read_csv is deprecated and will be removed in a future version. Use ``sep='\\s+'`` instead\n",
            "  dataframe = pd.read_csv(filepath, header=None, delim_whitespace=True)\n",
            "/var/folders/6w/sv2ydg0d1c9c44jfs3pkt36w0000gn/T/ipykernel_80717/58810182.py:3: FutureWarning: The 'delim_whitespace' keyword in pd.read_csv is deprecated and will be removed in a future version. Use ``sep='\\s+'`` instead\n",
            "  dataframe = pd.read_csv(filepath, header=None, delim_whitespace=True)\n",
            "/var/folders/6w/sv2ydg0d1c9c44jfs3pkt36w0000gn/T/ipykernel_80717/58810182.py:3: FutureWarning: The 'delim_whitespace' keyword in pd.read_csv is deprecated and will be removed in a future version. Use ``sep='\\s+'`` instead\n",
            "  dataframe = pd.read_csv(filepath, header=None, delim_whitespace=True)\n",
            "/var/folders/6w/sv2ydg0d1c9c44jfs3pkt36w0000gn/T/ipykernel_80717/58810182.py:3: FutureWarning: The 'delim_whitespace' keyword in pd.read_csv is deprecated and will be removed in a future version. Use ``sep='\\s+'`` instead\n",
            "  dataframe = pd.read_csv(filepath, header=None, delim_whitespace=True)\n",
            "/var/folders/6w/sv2ydg0d1c9c44jfs3pkt36w0000gn/T/ipykernel_80717/58810182.py:3: FutureWarning: The 'delim_whitespace' keyword in pd.read_csv is deprecated and will be removed in a future version. Use ``sep='\\s+'`` instead\n",
            "  dataframe = pd.read_csv(filepath, header=None, delim_whitespace=True)\n",
            "/var/folders/6w/sv2ydg0d1c9c44jfs3pkt36w0000gn/T/ipykernel_80717/58810182.py:3: FutureWarning: The 'delim_whitespace' keyword in pd.read_csv is deprecated and will be removed in a future version. Use ``sep='\\s+'`` instead\n",
            "  dataframe = pd.read_csv(filepath, header=None, delim_whitespace=True)\n",
            "/var/folders/6w/sv2ydg0d1c9c44jfs3pkt36w0000gn/T/ipykernel_80717/58810182.py:3: FutureWarning: The 'delim_whitespace' keyword in pd.read_csv is deprecated and will be removed in a future version. Use ``sep='\\s+'`` instead\n",
            "  dataframe = pd.read_csv(filepath, header=None, delim_whitespace=True)\n",
            "/var/folders/6w/sv2ydg0d1c9c44jfs3pkt36w0000gn/T/ipykernel_80717/58810182.py:3: FutureWarning: The 'delim_whitespace' keyword in pd.read_csv is deprecated and will be removed in a future version. Use ``sep='\\s+'`` instead\n",
            "  dataframe = pd.read_csv(filepath, header=None, delim_whitespace=True)\n",
            "/var/folders/6w/sv2ydg0d1c9c44jfs3pkt36w0000gn/T/ipykernel_80717/58810182.py:3: FutureWarning: The 'delim_whitespace' keyword in pd.read_csv is deprecated and will be removed in a future version. Use ``sep='\\s+'`` instead\n",
            "  dataframe = pd.read_csv(filepath, header=None, delim_whitespace=True)\n",
            "/var/folders/6w/sv2ydg0d1c9c44jfs3pkt36w0000gn/T/ipykernel_80717/58810182.py:3: FutureWarning: The 'delim_whitespace' keyword in pd.read_csv is deprecated and will be removed in a future version. Use ``sep='\\s+'`` instead\n",
            "  dataframe = pd.read_csv(filepath, header=None, delim_whitespace=True)\n",
            "/var/folders/6w/sv2ydg0d1c9c44jfs3pkt36w0000gn/T/ipykernel_80717/58810182.py:3: FutureWarning: The 'delim_whitespace' keyword in pd.read_csv is deprecated and will be removed in a future version. Use ``sep='\\s+'`` instead\n",
            "  dataframe = pd.read_csv(filepath, header=None, delim_whitespace=True)\n",
            "/var/folders/6w/sv2ydg0d1c9c44jfs3pkt36w0000gn/T/ipykernel_80717/58810182.py:3: FutureWarning: The 'delim_whitespace' keyword in pd.read_csv is deprecated and will be removed in a future version. Use ``sep='\\s+'`` instead\n",
            "  dataframe = pd.read_csv(filepath, header=None, delim_whitespace=True)\n",
            "/var/folders/6w/sv2ydg0d1c9c44jfs3pkt36w0000gn/T/ipykernel_80717/58810182.py:3: FutureWarning: The 'delim_whitespace' keyword in pd.read_csv is deprecated and will be removed in a future version. Use ``sep='\\s+'`` instead\n",
            "  dataframe = pd.read_csv(filepath, header=None, delim_whitespace=True)\n",
            "/var/folders/6w/sv2ydg0d1c9c44jfs3pkt36w0000gn/T/ipykernel_80717/58810182.py:3: FutureWarning: The 'delim_whitespace' keyword in pd.read_csv is deprecated and will be removed in a future version. Use ``sep='\\s+'`` instead\n",
            "  dataframe = pd.read_csv(filepath, header=None, delim_whitespace=True)\n",
            "/var/folders/6w/sv2ydg0d1c9c44jfs3pkt36w0000gn/T/ipykernel_80717/58810182.py:3: FutureWarning: The 'delim_whitespace' keyword in pd.read_csv is deprecated and will be removed in a future version. Use ``sep='\\s+'`` instead\n",
            "  dataframe = pd.read_csv(filepath, header=None, delim_whitespace=True)\n",
            "/var/folders/6w/sv2ydg0d1c9c44jfs3pkt36w0000gn/T/ipykernel_80717/58810182.py:3: FutureWarning: The 'delim_whitespace' keyword in pd.read_csv is deprecated and will be removed in a future version. Use ``sep='\\s+'`` instead\n",
            "  dataframe = pd.read_csv(filepath, header=None, delim_whitespace=True)\n"
          ]
        },
        {
          "name": "stdout",
          "output_type": "stream",
          "text": [
            "(7352, 9, 128) (7352, 6)\n",
            "(1197, 9, 128) (1197, 6)\n",
            "(1750, 9, 128) (1750, 6)\n",
            "train_size: 115\n",
            "validation_size: 19\n",
            "test_size: 28\n"
          ]
        }
      ],
      "source": [
        "datasets = create_datasets('')\n",
        "train_dataloader, val_dataloader, test_dataloader = create_dataloaders(datasets, batch_size=64)"
      ]
    },
    {
      "cell_type": "markdown",
      "metadata": {
        "id": "lmkciUx_yClk"
      },
      "source": [
        "# PyTorch 1D CNN model"
      ]
    },
    {
      "cell_type": "code",
      "execution_count": 17,
      "metadata": {
        "id": "89Ot6ucYyNte"
      },
      "outputs": [],
      "source": [
        "class ConvNet1D(nn.Module):\n",
        "    def __init__(self):\n",
        "        super().__init__()\n",
        "        self.layer1 = nn.Sequential(\n",
        "            nn.Conv1d(9, 32, kernel_size=3),\n",
        "            nn.ReLU(),\n",
        "            nn.Dropout(0.5),\n",
        "            nn.MaxPool1d(10))\n",
        "        self.layer2 = nn.Sequential(\n",
        "            nn.Conv1d(32, 64, kernel_size=3),\n",
        "            nn.ReLU(),)\n",
        "        self.layer3 = nn.Flatten()\n",
        "        self.layer4 = nn.Sequential(\n",
        "            nn.Linear(640,100),\n",
        "            nn.ReLU())\n",
        "        self.layer5 = nn.Sequential(\n",
        "            nn.Linear(100,6),\n",
        "            nn.Softmax())\n",
        "\n",
        "    def forward(self, x):\n",
        "      out = self.layer1(x)\n",
        "      out = self.layer2(out)\n",
        "      out = self.layer3(out)\n",
        "      out = self.layer4(out)\n",
        "      out = self.layer5(out)\n",
        "      return out"
      ]
    },
    {
      "cell_type": "markdown",
      "metadata": {
        "id": "3u51guY_zd_2"
      },
      "source": [
        "# Trainer class for PyTorch model"
      ]
    },
    {
      "cell_type": "code",
      "execution_count": 18,
      "metadata": {
        "id": "48-aoLmiChpF"
      },
      "outputs": [],
      "source": [
        "class Trainer:\n",
        "    def __init__(\n",
        "        self,\n",
        "        model,\n",
        "        optimizer,\n",
        "        n_epochs=20,\n",
        "        criterion=nn.CrossEntropyLoss(),\n",
        "        model_name='best_model',\n",
        "        device='cpu'\n",
        "    ):\n",
        "        self.model = model\n",
        "        self.optimizer = optimizer\n",
        "        self.device = device\n",
        "        self.n_epochs = n_epochs\n",
        "        self.criterion = criterion\n",
        "\n",
        "        # adding time_stamp to model name to make sure the save models don't overwrite each other,\n",
        "        # you can customize your own model name with hyperparameters so that you can reload the model more easily\n",
        "        time_stamp = time.strftime(\"%m%d%H%M%S\")\n",
        "        self.model_path = f'models/{model_name}_{time_stamp}.pt'\n",
        "\n",
        "        self.losses = {split: [] for split in ['train', 'eval', 'test']}\n",
        "\n",
        "    def compute_loss(self, x, y, model=None):\n",
        "        # y = y.view(-1)\n",
        "        y_pred = self.model(x.float())\n",
        "        # y_pred = y_pred.view(-1)\n",
        "        # loss = self.criterion(y, torch.max(y_pred, 1)[1])\n",
        "        loss = self.criterion(y_pred, y)\n",
        "        return loss, y_pred, y\n",
        "\n",
        "    def train_epoch(self, loader):\n",
        "        self.model.train()\n",
        "        # batch losses\n",
        "        b_losses = []\n",
        "        for x, y in loader:\n",
        "            # Setting the optimizer gradient to Zero\n",
        "            self.optimizer.zero_grad()\n",
        "            x.to(torch.device(self.device))\n",
        "            y.to(torch.device(self.device))\n",
        "\n",
        "            loss, pred, target = self.compute_loss(x, y)\n",
        "\n",
        "            # Backpropagate the training loss\n",
        "            loss.backward()\n",
        "            self.optimizer.step()\n",
        "            b_losses.append(loss.detach().numpy())\n",
        "\n",
        "        # aggregated losses across batches\n",
        "        agg_loss = np.sum(b_losses) / len(loader)\n",
        "        self.losses['train'].append(agg_loss)\n",
        "        return agg_loss\n",
        "\n",
        "    # decorator, equivalent to with torch.no_grad():\n",
        "    @torch.no_grad()\n",
        "    def eval_epoch(self, loader, split='eval'):\n",
        "        self.model.eval()\n",
        "        # batch losses\n",
        "        b_losses = []\n",
        "        for x, y in loader:\n",
        "            x.to(torch.device(self.device)).float()\n",
        "            y.to(torch.device(self.device)).float()\n",
        "\n",
        "            loss, pred, target = self.compute_loss(x, y)\n",
        "\n",
        "            b_losses.append(loss.detach().numpy())\n",
        "\n",
        "        # aggregated losses across batches\n",
        "        agg_loss = np.sum(b_losses) / len(loader)\n",
        "        self.losses[split].append(agg_loss)\n",
        "        return agg_loss\n",
        "\n",
        "    def fit(self, loaders):\n",
        "        print(f\"Training model for {self.n_epochs} epochs...\")\n",
        "        train_loader, eval_loader, test_loader = loaders\n",
        "        train_start = time.time()\n",
        "\n",
        "        start_epoch = 0\n",
        "        best_eval_loss = np.inf\n",
        "\n",
        "        for epoch in range(start_epoch, self.n_epochs):\n",
        "            epoch_start = time.time()\n",
        "\n",
        "            train_loss = self.train_epoch(train_loader)\n",
        "            eval_loss = self.eval_epoch(eval_loader, split='eval')\n",
        "            test_loss = self.eval_epoch(test_loader, split='test')\n",
        "\n",
        "            if eval_loss < best_eval_loss:\n",
        "                best_eval_loss = eval_loss\n",
        "                self.save(self.model, self.model_path)\n",
        "\n",
        "            s = (\n",
        "                f\"[Epoch {epoch + 1}] \"\n",
        "                f\"train_loss = {train_loss:.5f}, \"\n",
        "                f\"eval_loss = {eval_loss:.5f}, \"\n",
        "                f\"test_loss = {test_loss:.5f}\"\n",
        "            )\n",
        "\n",
        "            epoch_time = time.time() - epoch_start\n",
        "            s += f\" [{epoch_time:.1f}s]\"\n",
        "            print(s)\n",
        "\n",
        "        train_time = int(time.time() - train_start)\n",
        "\n",
        "        print(f'Task done in {train_time}s')\n",
        "\n",
        "    @torch.no_grad()\n",
        "    def eval_accuracy(self, test_loader):\n",
        "      print(f\"Evaluating test accuracy...\")\n",
        "      best_model = self.load(self.model)\n",
        "      best_model.eval()\n",
        "\n",
        "      preds = []\n",
        "      trues = []\n",
        "\n",
        "      for x, y in tqdm(test_loader):\n",
        "        x = x.to(self.device).float()\n",
        "        y = y.to(self.device).float()\n",
        "\n",
        "        y_pred = best_model(x)\n",
        "        # _, y_pred, y_target = self.compute_loss(x, y)\n",
        "        # print('y shape', y.shape)\n",
        "        # print('y_pred shape', y_pred.shape)\n",
        "\n",
        "        _, pred = torch.max(y_pred, 1)\n",
        "        _, true = torch.max(y, 1)\n",
        "        preds.append(pred.detach().cpu().numpy())\n",
        "        trues.append(true.detach().cpu().numpy())\n",
        "\n",
        "      preds = np.concatenate(preds, axis=0)\n",
        "      trues = np.concatenate(trues, axis=0)\n",
        "\n",
        "      # df = pd.DataFrame({\n",
        "      #       'pred': preds,\n",
        "      #       'true': trues,\n",
        "      #       'accuray': np.sqrt((preds - trues)**2)\n",
        "      #   })\n",
        "      return preds, trues, (preds == trues).sum() / len(trues)\n",
        "\n",
        "    def save(self, model, model_path=None):\n",
        "        os.makedirs(f'models', exist_ok=True)\n",
        "        if model_path is None:\n",
        "            model_path = self.model_path\n",
        "        torch.save(model.state_dict(), model_path)\n",
        "\n",
        "    def load(self, model, model_path=None):\n",
        "        \"\"\"\n",
        "        loads the prediction model's parameters\n",
        "        \"\"\"\n",
        "        if model_path is None:\n",
        "            model_path = self.model_path\n",
        "        model.load_state_dict(torch.load(model_path, map_location=self.device))\n",
        "        print(f\"Model {model.__class__.__name__} saved in {model_path} loaded to {self.device}\")\n",
        "        return model\n",
        "\n",
        "    def plot_losses(self):\n",
        "        \"\"\"\n",
        "        :param losses: dict with losses\n",
        "        \"\"\"\n",
        "        linestyles = {\n",
        "            'train': 'solid',\n",
        "            'eval': 'dashed',\n",
        "            'test': 'dotted',\n",
        "        }\n",
        "        for split, loss in self.losses.items():\n",
        "            ls = linestyles[split]\n",
        "            plt.plot(range(1, 1+len(loss)), loss, label=f'{split} loss', linestyle=ls)\n",
        "            plt.yscale('log')\n",
        "\n",
        "        plt.title(\"Training/Validation Losses\")\n",
        "        plt.xlabel(\"Epoch\")\n",
        "        plt.ylabel(\"Loss\")\n",
        "        plt.legend()\n",
        "        plt.show()"
      ]
    },
    {
      "cell_type": "markdown",
      "metadata": {
        "id": "mbfW0IRH8TIv"
      },
      "source": [
        "# Training and evaluation"
      ]
    },
    {
      "cell_type": "code",
      "execution_count": 19,
      "metadata": {
        "id": "UJpaEnvnGzh6"
      },
      "outputs": [],
      "source": [
        "model = ConvNet1D().float()\n",
        "optimizer = torch.optim.Adam(model.parameters(), lr=0.001)\n",
        "criterion = nn.CrossEntropyLoss()"
      ]
    },
    {
      "cell_type": "code",
      "execution_count": 20,
      "metadata": {
        "colab": {
          "base_uri": "https://localhost:8080/"
        },
        "id": "cD_KRhE9HCEG",
        "outputId": "2c3a9c86-6e8c-4475-fddf-5c12ea36ada7"
      },
      "outputs": [
        {
          "name": "stdout",
          "output_type": "stream",
          "text": [
            "Training model for 10 epochs...\n"
          ]
        },
        {
          "name": "stderr",
          "output_type": "stream",
          "text": [
            "/Users/mathis/opt/anaconda3/envs/24ML/lib/python3.12/site-packages/torch/nn/modules/module.py:1511: UserWarning: Implicit dimension choice for softmax has been deprecated. Change the call to include dim=X as an argument.\n",
            "  return self._call_impl(*args, **kwargs)\n"
          ]
        },
        {
          "name": "stdout",
          "output_type": "stream",
          "text": [
            "[Epoch 1] train_loss = 1.42423, eval_loss = 1.31793, test_loss = 1.33749 [1.3s]\n",
            "[Epoch 2] train_loss = 1.14908, eval_loss = 1.21683, test_loss = 1.23056 [1.1s]\n",
            "[Epoch 3] train_loss = 1.11322, eval_loss = 1.18565, test_loss = 1.20305 [0.9s]\n",
            "[Epoch 4] train_loss = 1.10386, eval_loss = 1.20404, test_loss = 1.21678 [0.9s]\n",
            "[Epoch 5] train_loss = 1.10074, eval_loss = 1.17566, test_loss = 1.19815 [0.9s]\n",
            "[Epoch 6] train_loss = 1.09866, eval_loss = 1.16269, test_loss = 1.18764 [0.9s]\n",
            "[Epoch 7] train_loss = 1.09498, eval_loss = 1.16827, test_loss = 1.18231 [1.6s]\n",
            "[Epoch 8] train_loss = 1.09435, eval_loss = 1.14853, test_loss = 1.16924 [1.0s]\n",
            "[Epoch 9] train_loss = 1.09094, eval_loss = 1.15263, test_loss = 1.17424 [0.9s]\n",
            "[Epoch 10] train_loss = 1.09113, eval_loss = 1.15442, test_loss = 1.17148 [1.0s]\n",
            "Task done in 10s\n"
          ]
        }
      ],
      "source": [
        "trainer = Trainer(\n",
        "  model,\n",
        "  optimizer,\n",
        "  criterion=criterion,\n",
        "  n_epochs=10,\n",
        ")\n",
        "\n",
        "trainer.fit((train_dataloader, val_dataloader, test_dataloader))"
      ]
    },
    {
      "cell_type": "code",
      "execution_count": 21,
      "metadata": {
        "colab": {
          "base_uri": "https://localhost:8080/",
          "height": 472
        },
        "id": "XlE9pySMHTlY",
        "outputId": "b1d67747-c07a-4a92-be9b-351307d2b2e7"
      },
      "outputs": [
        {
          "data": {
            "image/png": "[encoded data removed]",
            "text/plain": [
              "<Figure size 640x480 with 1 Axes>"
            ]
          },
          "metadata": {},
          "output_type": "display_data"
        }
      ],
      "source": [
        "trainer.plot_losses()"
      ]
    },
    {
      "cell_type": "code",
      "execution_count": 22,
      "metadata": {
        "colab": {
          "base_uri": "https://localhost:8080/"
        },
        "id": "1m5ttFrjVuPU",
        "outputId": "da743e59-658a-4afa-a7a3-ac2d70e5ad67"
      },
      "outputs": [
        {
          "name": "stdout",
          "output_type": "stream",
          "text": [
            "Evaluating test accuracy...\n",
            "Model ConvNet1D saved in models/best_model_1017095158.pt loaded to cpu\n"
          ]
        },
        {
          "name": "stderr",
          "output_type": "stream",
          "text": [
            "100%|██████████| 28/28 [00:00<00:00, 150.22it/s]"
          ]
        },
        {
          "name": "stdout",
          "output_type": "stream",
          "text": [
            "\n",
            "Best accuracy: 0.8829\n"
          ]
        },
        {
          "name": "stderr",
          "output_type": "stream",
          "text": [
            "\n"
          ]
        }
      ],
      "source": [
        "predictions, trues, accuracy = trainer.eval_accuracy(test_dataloader)\n",
        "print(f'\\nBest accuracy: {accuracy:.4f}')"
      ]
    },
    {
      "cell_type": "code",
      "execution_count": null,
      "metadata": {
        "id": "2lq1wVqh3CPW"
      },
      "outputs": [],
      "source": []
    }
  ],
  "metadata": {
    "colab": {
      "provenance": []
    },
    "kernelspec": {
      "display_name": "24ML",
      "language": "python",
      "name": "python3"
    },
    "language_info": {
      "codemirror_mode": {
        "name": "ipython",
        "version": 3
      },
      "file_extension": ".py",
      "mimetype": "text/x-python",
      "name": "python",
      "nbconvert_exporter": "python",
      "pygments_lexer": "ipython3",
      "version": "3.12.7"
    }
  },
  "nbformat": 4,
  "nbformat_minor": 0
}
